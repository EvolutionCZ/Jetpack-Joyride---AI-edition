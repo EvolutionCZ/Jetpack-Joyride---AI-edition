{
 "cells": [
  {
   "cell_type": "markdown",
   "id": "44419cc5",
   "metadata": {},
   "source": [
    "Prerequisites"
   ]
  },
  {
   "cell_type": "code",
   "execution_count": 12,
   "id": "dbe5a97f",
   "metadata": {},
   "outputs": [
    {
     "name": "stdout",
     "output_type": "stream",
     "text": [
      "Requirement already satisfied: pygame in c:\\users\\tstejskal\\anaconda3\\lib\\site-packages (2.1.2)\n",
      "Requirement already satisfied: tensorflow in c:\\users\\tstejskal\\anaconda3\\lib\\site-packages (2.9.1)\n",
      "Requirement already satisfied: keras in c:\\users\\tstejskal\\anaconda3\\lib\\site-packages (2.9.0)\n",
      "Requirement already satisfied: six>=1.12.0 in c:\\users\\tstejskal\\anaconda3\\lib\\site-packages (from tensorflow) (1.16.0)\n",
      "Requirement already satisfied: tensorflow-io-gcs-filesystem>=0.23.1 in c:\\users\\tstejskal\\anaconda3\\lib\\site-packages (from tensorflow) (0.26.0)\n",
      "Requirement already satisfied: setuptools in c:\\users\\tstejskal\\anaconda3\\lib\\site-packages (from tensorflow) (61.2.0)\n",
      "Requirement already satisfied: astunparse>=1.6.0 in c:\\users\\tstejskal\\anaconda3\\lib\\site-packages (from tensorflow) (1.6.3)\n",
      "Requirement already satisfied: libclang>=13.0.0 in c:\\users\\tstejskal\\anaconda3\\lib\\site-packages (from tensorflow) (14.0.1)\n",
      "Requirement already satisfied: packaging in c:\\users\\tstejskal\\anaconda3\\lib\\site-packages (from tensorflow) (21.3)\n",
      "Requirement already satisfied: flatbuffers<2,>=1.12 in c:\\users\\tstejskal\\anaconda3\\lib\\site-packages (from tensorflow) (1.12)\n",
      "Requirement already satisfied: opt-einsum>=2.3.2 in c:\\users\\tstejskal\\anaconda3\\lib\\site-packages (from tensorflow) (3.3.0)\n",
      "Requirement already satisfied: termcolor>=1.1.0 in c:\\users\\tstejskal\\anaconda3\\lib\\site-packages (from tensorflow) (1.1.0)\n",
      "Requirement already satisfied: typing-extensions>=3.6.6 in c:\\users\\tstejskal\\anaconda3\\lib\\site-packages (from tensorflow) (4.1.1)\n",
      "Requirement already satisfied: absl-py>=1.0.0 in c:\\users\\tstejskal\\anaconda3\\lib\\site-packages (from tensorflow) (1.1.0)\n",
      "Requirement already satisfied: tensorflow-estimator<2.10.0,>=2.9.0rc0 in c:\\users\\tstejskal\\anaconda3\\lib\\site-packages (from tensorflow) (2.9.0)\n",
      "Requirement already satisfied: gast<=0.4.0,>=0.2.1 in c:\\users\\tstejskal\\anaconda3\\lib\\site-packages (from tensorflow) (0.4.0)\n",
      "Requirement already satisfied: numpy>=1.20 in c:\\users\\tstejskal\\anaconda3\\lib\\site-packages (from tensorflow) (1.21.5)\n",
      "Requirement already satisfied: google-pasta>=0.1.1 in c:\\users\\tstejskal\\anaconda3\\lib\\site-packages (from tensorflow) (0.2.0)\n",
      "Requirement already satisfied: keras-preprocessing>=1.1.1 in c:\\users\\tstejskal\\anaconda3\\lib\\site-packages (from tensorflow) (1.1.2)\n",
      "Requirement already satisfied: protobuf<3.20,>=3.9.2 in c:\\users\\tstejskal\\anaconda3\\lib\\site-packages (from tensorflow) (3.19.1)\n",
      "Requirement already satisfied: tensorboard<2.10,>=2.9 in c:\\users\\tstejskal\\anaconda3\\lib\\site-packages (from tensorflow) (2.9.1)\n",
      "Requirement already satisfied: h5py>=2.9.0 in c:\\users\\tstejskal\\anaconda3\\lib\\site-packages (from tensorflow) (3.6.0)\n",
      "Requirement already satisfied: grpcio<2.0,>=1.24.3 in c:\\users\\tstejskal\\anaconda3\\lib\\site-packages (from tensorflow) (1.42.0)\n",
      "Requirement already satisfied: wrapt>=1.11.0 in c:\\users\\tstejskal\\anaconda3\\lib\\site-packages (from tensorflow) (1.12.1)\n",
      "Requirement already satisfied: wheel<1.0,>=0.23.0 in c:\\users\\tstejskal\\anaconda3\\lib\\site-packages (from astunparse>=1.6.0->tensorflow) (0.37.1)\n",
      "Requirement already satisfied: markdown>=2.6.8 in c:\\users\\tstejskal\\anaconda3\\lib\\site-packages (from tensorboard<2.10,>=2.9->tensorflow) (3.3.4)\n",
      "Requirement already satisfied: requests<3,>=2.21.0 in c:\\users\\tstejskal\\anaconda3\\lib\\site-packages (from tensorboard<2.10,>=2.9->tensorflow) (2.27.1)\n",
      "Requirement already satisfied: werkzeug>=1.0.1 in c:\\users\\tstejskal\\anaconda3\\lib\\site-packages (from tensorboard<2.10,>=2.9->tensorflow) (2.0.3)\n",
      "Requirement already satisfied: google-auth-oauthlib<0.5,>=0.4.1 in c:\\users\\tstejskal\\anaconda3\\lib\\site-packages (from tensorboard<2.10,>=2.9->tensorflow) (0.4.6)\n",
      "Requirement already satisfied: tensorboard-data-server<0.7.0,>=0.6.0 in c:\\users\\tstejskal\\anaconda3\\lib\\site-packages (from tensorboard<2.10,>=2.9->tensorflow) (0.6.1)\n",
      "Requirement already satisfied: tensorboard-plugin-wit>=1.6.0 in c:\\users\\tstejskal\\anaconda3\\lib\\site-packages (from tensorboard<2.10,>=2.9->tensorflow) (1.8.1)\n",
      "Requirement already satisfied: google-auth<3,>=1.6.3 in c:\\users\\tstejskal\\anaconda3\\lib\\site-packages (from tensorboard<2.10,>=2.9->tensorflow) (1.33.0)\n",
      "Requirement already satisfied: pyparsing!=3.0.5,>=2.0.2 in c:\\users\\tstejskal\\anaconda3\\lib\\site-packages (from packaging->tensorflow) (3.0.4)\n",
      "Requirement already satisfied: rsa<5,>=3.1.4 in c:\\users\\tstejskal\\anaconda3\\lib\\site-packages (from google-auth<3,>=1.6.3->tensorboard<2.10,>=2.9->tensorflow) (4.7.2)\n",
      "Requirement already satisfied: pyasn1-modules>=0.2.1 in c:\\users\\tstejskal\\anaconda3\\lib\\site-packages (from google-auth<3,>=1.6.3->tensorboard<2.10,>=2.9->tensorflow) (0.2.8)\n",
      "Requirement already satisfied: cachetools<5.0,>=2.0.0 in c:\\users\\tstejskal\\anaconda3\\lib\\site-packages (from google-auth<3,>=1.6.3->tensorboard<2.10,>=2.9->tensorflow) (4.2.2)\n",
      "Requirement already satisfied: requests-oauthlib>=0.7.0 in c:\\users\\tstejskal\\anaconda3\\lib\\site-packages (from google-auth-oauthlib<0.5,>=0.4.1->tensorboard<2.10,>=2.9->tensorflow) (1.3.1)\n",
      "Requirement already satisfied: urllib3<1.27,>=1.21.1 in c:\\users\\tstejskal\\anaconda3\\lib\\site-packages (from requests<3,>=2.21.0->tensorboard<2.10,>=2.9->tensorflow) (1.26.9)\n",
      "Requirement already satisfied: charset-normalizer~=2.0.0 in c:\\users\\tstejskal\\anaconda3\\lib\\site-packages (from requests<3,>=2.21.0->tensorboard<2.10,>=2.9->tensorflow) (2.0.4)\n",
      "Requirement already satisfied: certifi>=2017.4.17 in c:\\users\\tstejskal\\anaconda3\\lib\\site-packages (from requests<3,>=2.21.0->tensorboard<2.10,>=2.9->tensorflow) (2021.10.8)\n",
      "Requirement already satisfied: idna<4,>=2.5 in c:\\users\\tstejskal\\anaconda3\\lib\\site-packages (from requests<3,>=2.21.0->tensorboard<2.10,>=2.9->tensorflow) (3.3)\n",
      "Requirement already satisfied: pyasn1<0.5.0,>=0.4.6 in c:\\users\\tstejskal\\anaconda3\\lib\\site-packages (from pyasn1-modules>=0.2.1->google-auth<3,>=1.6.3->tensorboard<2.10,>=2.9->tensorflow) (0.4.8)\n",
      "Requirement already satisfied: oauthlib>=3.0.0 in c:\\users\\tstejskal\\anaconda3\\lib\\site-packages (from requests-oauthlib>=0.7.0->google-auth-oauthlib<0.5,>=0.4.1->tensorboard<2.10,>=2.9->tensorflow) (3.2.0)\n",
      "\n",
      "[notice] A new release of pip available: 22.1.2 -> 22.2\n",
      "[notice] To update, run: python.exe -m pip install --upgrade pip\n",
      "Note: you may need to restart the kernel to use updated packages.\n"
     ]
    }
   ],
   "source": [
    "pip install pygame tensorflow keras"
   ]
  },
  {
   "cell_type": "code",
   "execution_count": 18,
   "id": "ef7e44d9",
   "metadata": {},
   "outputs": [],
   "source": [
    "#import tensorflow as tf\n",
    "#from tensorflow import keras\n",
    "#import pygame\n",
    "import numpy as np\n",
    "import matplotlib.pyplot as plt\n",
    "import random\n",
    "import time"
   ]
  },
  {
   "cell_type": "markdown",
   "id": "be6d2ef5",
   "metadata": {},
   "source": [
    "Variables"
   ]
  },
  {
   "cell_type": "code",
   "execution_count": 34,
   "id": "49dc8b13",
   "metadata": {},
   "outputs": [
    {
     "name": "stdout",
     "output_type": "stream",
     "text": [
      "250\n"
     ]
    }
   ],
   "source": [
    "game_field = np.zeros((50, 250, 3))\n",
    "game_tick = 25\n",
    "\n",
    "player_speed = 0\n",
    "player_accel = 1\n",
    "player_maxspeed = 10\n",
    "\n",
    "laser_random = 0\n",
    "laser_last = 0\n",
    "\n",
    "#print (game_field.shape[1])\n",
    "\n",
    "game_tact = game_tick / 1000"
   ]
  },
  {
   "cell_type": "markdown",
   "id": "5938d526",
   "metadata": {},
   "source": [
    "Game Subroutines"
   ]
  },
  {
   "cell_type": "code",
   "execution_count": 46,
   "id": "82ccd4fe",
   "metadata": {},
   "outputs": [],
   "source": [
    "def laser_random_gen(fstart = 0, fstop = 100):\n",
    "    global laser_random\n",
    "    \n",
    "    laser_random = int(random.randrange(fstart, fstop))\n",
    "    print (laser_random)\n",
    "\n",
    "def laser_vertical_small():\n",
    "    global laser_random\n",
    "    \n",
    "    print (game_field.shape [0] - 10)\n",
    "    laser_random = laser_random_gen (0, game_field.shape [0] - 10)\n",
    "    print (laser_random)\n",
    "    for i in range (laser_random, laser_random + 10):\n",
    "        game_field [game_field.shape [0] - 1, i, 1] = 1.0\n",
    "    laser_last = 0\n",
    "    \n",
    "def laser_vertical_big():\n",
    "    laser_random = laser_random_gen (0, game_field [0] - 25)\n",
    "    for i in range (laser_random, laser_random + 25):\n",
    "        game_field [game_field.shape [0] - 1, i, 1] = 1.0\n",
    "    laser_last = 0\n",
    "\n",
    "#def laser_horizontal_small():\n",
    "    \n",
    "\n",
    "#def laser_horizontal_big():\n",
    "    \n",
    "\n",
    "#def coin_type1():\n",
    "    \n",
    "\n",
    "#def coin_type2():\n",
    "    "
   ]
  },
  {
   "cell_type": "code",
   "execution_count": 48,
   "id": "93cde742",
   "metadata": {},
   "outputs": [
    {
     "name": "stdout",
     "output_type": "stream",
     "text": [
      "96\n"
     ]
    }
   ],
   "source": [
    "laser_random_gen()"
   ]
  },
  {
   "cell_type": "markdown",
   "id": "427a5cc7",
   "metadata": {},
   "source": [
    "Game Runtime"
   ]
  },
  {
   "cell_type": "code",
   "execution_count": 36,
   "id": "5040a0c9",
   "metadata": {},
   "outputs": [],
   "source": [
    "def game_runtime():\n",
    "    global laser_last\n",
    "    global laser_random\n",
    "    global game_field\n",
    "    \n",
    "    for x in range (1, (game_field.shape[1] - 1)):\n",
    "        for y in range (game_field.shape[0]):\n",
    "            for j in range (3):\n",
    "                game_field [y, x - 1, j] = game_field [y, x, j]\n",
    "\n",
    "    laser_last += 1\n",
    "    if laser_last >= 5:\n",
    "        laser_random_gen()\n",
    "        print (laser_random)\n",
    "        print (type(laser_random))\n",
    "        if laser_random >= 10:\n",
    "            laser_vertical_small()\n",
    "\n",
    "    plt.imshow (game_field)\n",
    "    print (laser_last)\n",
    "    #time.sleep(1)"
   ]
  },
  {
   "cell_type": "code",
   "execution_count": 41,
   "id": "d595cd46",
   "metadata": {},
   "outputs": [
    {
     "name": "stdout",
     "output_type": "stream",
     "text": [
      "64\n",
      "<class 'int'>\n"
     ]
    },
    {
     "ename": "TypeError",
     "evalue": "unsupported operand type(s) for +: 'NoneType' and 'int'",
     "output_type": "error",
     "traceback": [
      "\u001b[1;31m---------------------------------------------------------------------------\u001b[0m",
      "\u001b[1;31mTypeError\u001b[0m                                 Traceback (most recent call last)",
      "Input \u001b[1;32mIn [41]\u001b[0m, in \u001b[0;36m<cell line: 1>\u001b[1;34m()\u001b[0m\n\u001b[1;32m----> 1\u001b[0m \u001b[43mgame_runtime\u001b[49m\u001b[43m(\u001b[49m\u001b[43m)\u001b[49m\n",
      "Input \u001b[1;32mIn [36]\u001b[0m, in \u001b[0;36mgame_runtime\u001b[1;34m()\u001b[0m\n\u001b[0;32m     15\u001b[0m     \u001b[38;5;28mprint\u001b[39m (\u001b[38;5;28mtype\u001b[39m(laser_random))\n\u001b[0;32m     16\u001b[0m     \u001b[38;5;28;01mif\u001b[39;00m laser_random \u001b[38;5;241m>\u001b[39m\u001b[38;5;241m=\u001b[39m \u001b[38;5;241m10\u001b[39m:\n\u001b[1;32m---> 17\u001b[0m         \u001b[43mlaser_vertical_small\u001b[49m\u001b[43m(\u001b[49m\u001b[43m)\u001b[49m\n\u001b[0;32m     19\u001b[0m plt\u001b[38;5;241m.\u001b[39mimshow (game_field)\n\u001b[0;32m     20\u001b[0m \u001b[38;5;28mprint\u001b[39m (laser_last)\n",
      "Input \u001b[1;32mIn [35]\u001b[0m, in \u001b[0;36mlaser_vertical_small\u001b[1;34m()\u001b[0m\n\u001b[0;32m      7\u001b[0m \u001b[38;5;28;01mglobal\u001b[39;00m laser_random\n\u001b[0;32m      9\u001b[0m laser_random \u001b[38;5;241m=\u001b[39m laser_random_gen (\u001b[38;5;241m0\u001b[39m, game_field\u001b[38;5;241m.\u001b[39mshape [\u001b[38;5;241m0\u001b[39m] \u001b[38;5;241m-\u001b[39m \u001b[38;5;241m10\u001b[39m)\n\u001b[1;32m---> 10\u001b[0m \u001b[38;5;28;01mfor\u001b[39;00m i \u001b[38;5;129;01min\u001b[39;00m \u001b[38;5;28mrange\u001b[39m (laser_random, \u001b[43mlaser_random\u001b[49m\u001b[43m \u001b[49m\u001b[38;5;241;43m+\u001b[39;49m\u001b[43m \u001b[49m\u001b[38;5;241;43m10\u001b[39;49m):\n\u001b[0;32m     11\u001b[0m     game_field [game_field\u001b[38;5;241m.\u001b[39mshape [\u001b[38;5;241m0\u001b[39m] \u001b[38;5;241m-\u001b[39m \u001b[38;5;241m1\u001b[39m, i, \u001b[38;5;241m1\u001b[39m] \u001b[38;5;241m=\u001b[39m \u001b[38;5;241m1.0\u001b[39m\n\u001b[0;32m     12\u001b[0m laser_last \u001b[38;5;241m=\u001b[39m \u001b[38;5;241m0\u001b[39m\n",
      "\u001b[1;31mTypeError\u001b[0m: unsupported operand type(s) for +: 'NoneType' and 'int'"
     ]
    }
   ],
   "source": [
    "game_runtime()"
   ]
  },
  {
   "cell_type": "markdown",
   "id": "3d27ae66",
   "metadata": {},
   "source": [
    "Neural Network"
   ]
  },
  {
   "cell_type": "code",
   "execution_count": 28,
   "id": "8aa6c945",
   "metadata": {},
   "outputs": [],
   "source": [
    "#model = Sequential([\n",
    "#    \n",
    "#])"
   ]
  },
  {
   "cell_type": "code",
   "execution_count": null,
   "id": "0821d298",
   "metadata": {},
   "outputs": [],
   "source": [
    "#model.compile (optimizer = Adam)"
   ]
  }
 ],
 "metadata": {
  "kernelspec": {
   "display_name": "Python 3 (ipykernel)",
   "language": "python",
   "name": "python3"
  },
  "language_info": {
   "codemirror_mode": {
    "name": "ipython",
    "version": 3
   },
   "file_extension": ".py",
   "mimetype": "text/x-python",
   "name": "python",
   "nbconvert_exporter": "python",
   "pygments_lexer": "ipython3",
   "version": "3.9.12"
  }
 },
 "nbformat": 4,
 "nbformat_minor": 5
}
